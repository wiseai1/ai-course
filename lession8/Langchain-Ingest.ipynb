{
 "cells": [
  {
   "cell_type": "markdown",
   "id": "3420575b-4d00-458b-aa0e-7030008ccd53",
   "metadata": {},
   "source": [
    "## Creating an index and populating it with documents using FAISS\n",
    "\n",
    "Simple example on how to ingest PDF documents, then web pages content into a FAISS VectorStore.\n"
   ]
  },
  {
   "cell_type": "markdown",
   "id": "1a82063d-6153-4812-8977-042241736b53",
   "metadata": {},
   "source": [
    "### Base parameters"
   ]
  },
  {
   "cell_type": "code",
   "id": "417ed4a4-9418-4f48-bebd-ef0ea11ae434",
   "metadata": {
    "tags": [],
    "ExecuteTime": {
     "end_time": "2024-05-31T23:21:46.973321Z",
     "start_time": "2024-05-31T23:21:46.970437Z"
    }
   },
   "source": [
    "index_name = \"pdf_docs\""
   ],
   "outputs": [],
   "execution_count": 2
  },
  {
   "cell_type": "markdown",
   "id": "9b499a49-128c-4be5-903b-76c40771c7bc",
   "metadata": {
    "tags": []
   },
   "source": [
    "#### Imports"
   ]
  },
  {
   "cell_type": "code",
   "id": "600cd763-6ecc-4c77-89c0-47108c31c44e",
   "metadata": {
    "tags": [],
    "ExecuteTime": {
     "end_time": "2024-05-31T23:21:49.290039Z",
     "start_time": "2024-05-31T23:21:48.615765Z"
    }
   },
   "source": [
    "from langchain.document_loaders import PyPDFDirectoryLoader\n",
    "from langchain.text_splitter import RecursiveCharacterTextSplitter\n",
    "from langchain.embeddings.huggingface import HuggingFaceEmbeddings\n",
    "from langchain.vectorstores.faiss import FAISS"
   ],
   "outputs": [],
   "execution_count": 3
  },
  {
   "cell_type": "markdown",
   "id": "f68f6785-480e-4519-be4f-8e1738dba4ca",
   "metadata": {},
   "source": [
    "## Initial index creation and document ingestion"
   ]
  },
  {
   "cell_type": "markdown",
   "id": "f8cff5f7-c509-48db-90b5-e15815b8b530",
   "metadata": {},
   "source": [
    "#### Document loading from a folder containing PDFs"
   ]
  },
  {
   "cell_type": "code",
   "id": "dde8a4a3-d602-49c6-b4a5-31a76b25a58b",
   "metadata": {
    "tags": [],
    "ExecuteTime": {
     "end_time": "2024-05-31T23:21:51.734900Z",
     "start_time": "2024-05-31T23:21:51.590288Z"
    }
   },
   "source": [
    "pdf_folder_path = 'pdf'\n",
    "\n",
    "loader = PyPDFDirectoryLoader(pdf_folder_path)\n",
    "docs = loader.load()"
   ],
   "outputs": [],
   "execution_count": 4
  },
  {
   "cell_type": "markdown",
   "id": "4198fe0a-38bf-4cd4-af7d-35b41c645edd",
   "metadata": {},
   "source": [
    "#### Split documents into chunks with some overlap"
   ]
  },
  {
   "cell_type": "code",
   "id": "edba4a08-2194-4df1-9091-6f2b596757a1",
   "metadata": {
    "tags": [],
    "ExecuteTime": {
     "end_time": "2024-05-31T23:21:53.877404Z",
     "start_time": "2024-05-31T23:21:53.874096Z"
    }
   },
   "source": [
    "text_splitter = RecursiveCharacterTextSplitter(chunk_size=1024,\n",
    "                                               chunk_overlap=40)\n",
    "all_splits = text_splitter.split_documents(docs)"
   ],
   "outputs": [],
   "execution_count": 5
  },
  {
   "cell_type": "markdown",
   "id": "7ae7eae2-c670-4eb5-803b-b4d591fa83db",
   "metadata": {},
   "source": [
    "#### Create the index and ingest the documents"
   ]
  },
  {
   "cell_type": "code",
   "id": "bbb6a3e3-5ccd-441e-b80d-427555d9e9f6",
   "metadata": {
    "tags": [],
    "ExecuteTime": {
     "end_time": "2024-05-31T23:24:49.783884Z",
     "start_time": "2024-05-31T23:24:45.915534Z"
    }
   },
   "source": [
    "embeddings = HuggingFaceEmbeddings()\n",
    "faiss_index = FAISS.from_documents(all_splits, embeddings)"
   ],
   "outputs": [],
   "execution_count": 7
  },
  {
   "cell_type": "markdown",
   "id": "4940a12c-7a13-4a81-94b2-415f1440e9c3",
   "metadata": {},
   "source": [
    "#### Write the schema to a yaml file to be able to open the index later on"
   ]
  },
  {
   "cell_type": "code",
   "id": "f445a19a-debb-4d66-b859-37c53f6d3095",
   "metadata": {
    "tags": [],
    "ExecuteTime": {
     "end_time": "2024-05-31T23:25:19.956470Z",
     "start_time": "2024-05-31T23:25:19.950736Z"
    }
   },
   "source": [
    "faiss_index.save_local(\"pdf\", index_name)\n",
    "\n",
    "faiss_index.add_documents(all_splits)\n"
   ],
   "outputs": [],
   "execution_count": 8
  },
  {
   "cell_type": "markdown",
   "id": "8d9d4869-be21-4cf4-a72c-2e58bcc1ab43",
   "metadata": {},
   "source": [
    "## Ingesting new documents"
   ]
  },
  {
   "cell_type": "markdown",
   "id": "d3052c81-7652-4ef0-acaf-883608a9ff85",
   "metadata": {},
   "source": [
    "#### Example with Web pages"
   ]
  },
  {
   "cell_type": "code",
   "execution_count": 8,
   "id": "998bcc21-d03c-4889-83a6-09c62cab25eb",
   "metadata": {
    "tags": []
   },
   "outputs": [],
   "source": [
    "from langchain.document_loaders import WebBaseLoader"
   ]
  },
  {
   "cell_type": "code",
   "execution_count": 10,
   "id": "354cfe78-9d90-404a-8648-98fb2e79ff6d",
   "metadata": {
    "tags": []
   },
   "outputs": [],
   "source": [
    "loader = WebBaseLoader([\"https://ai-on-openshift.io/getting-started/openshift/\",\n",
    "                        \"https://ai-on-openshift.io/getting-started/opendatahub/\",\n",
    "                        \"https://ai-on-openshift.io/getting-started/openshift-data-science/\",\n",
    "                        \"https://ai-on-openshift.io/odh-rhods/configuration/\",\n",
    "                        \"https://ai-on-openshift.io/odh-rhods/custom-notebooks/\",\n",
    "                        \"https://ai-on-openshift.io/odh-rhods/nvidia-gpus/\",\n",
    "                        \"https://ai-on-openshift.io/odh-rhods/custom-runtime-triton/\",\n",
    "                        \"https://ai-on-openshift.io/odh-rhods/openshift-group-management/\",\n",
    "                        \"https://ai-on-openshift.io/tools-and-applications/minio/minio/\"\n",
    "                       ])"
   ]
  },
  {
   "cell_type": "code",
   "execution_count": 11,
   "id": "8ab4eaf5-d177-4410-ae9d-a012f7ffafad",
   "metadata": {
    "tags": []
   },
   "outputs": [],
   "source": [
    "data = loader.load()"
   ]
  },
  {
   "cell_type": "code",
   "execution_count": 13,
   "id": "92838fe4-5b33-4835-b7e3-643ddef952c2",
   "metadata": {
    "tags": []
   },
   "outputs": [],
   "source": [
    "text_splitter = RecursiveCharacterTextSplitter(chunk_size=1024,\n",
    "                                               chunk_overlap=40)\n",
    "all_splits = text_splitter.split_documents(data)"
   ]
  },
  {
   "cell_type": "code",
   "execution_count": 14,
   "id": "ffd66d87-8314-4b2f-9c02-e856e1035e6b",
   "metadata": {
    "tags": []
   },
   "outputs": [],
   "source": [
    "embeddings = HuggingFaceEmbeddings()\n",
    "faiss_index = FAISS.from_documents(all_splits, embeddings)"
   ]
  },
  {
   "cell_type": "code",
   "id": "9d2355aa-5096-482a-ac39-4d285e63fb39",
   "metadata": {
    "tags": [],
    "ExecuteTime": {
     "end_time": "2024-05-31T23:25:28.876203Z",
     "start_time": "2024-05-31T23:25:27.499457Z"
    }
   },
   "source": [
    "faiss_index.add_documents(all_splits)"
   ],
   "outputs": [
    {
     "data": {
      "text/plain": [
       "['d8de92ad-8f69-4bee-8b9a-7aff775fcf40',\n",
       " 'ec8df273-9c6e-41d7-8e20-faa43afd41a4',\n",
       " '89a84fd2-02c8-4047-81c4-e357baef32e6',\n",
       " '48b5fed9-524c-4a74-8a94-9ccd9df2886a',\n",
       " '51af36ff-008f-49ac-b158-6a8bac4e5ebf',\n",
       " 'bba9828b-4db5-4cb3-b51c-8ed35e36f60c',\n",
       " '7c1d9831-33f7-49c8-9707-59d5746ad281',\n",
       " '11bc4fb1-8651-4945-9df0-69f49893c816',\n",
       " '7d1e7967-8635-4c5d-9cc9-edf9cef5890c',\n",
       " '7bb29970-b59b-43c0-8adc-cef27f80e214',\n",
       " '88ed9b21-abb1-4e8a-b831-a744bf6547e0']"
      ]
     },
     "execution_count": 9,
     "metadata": {},
     "output_type": "execute_result"
    }
   ],
   "execution_count": 9
  },
  {
   "metadata": {},
   "cell_type": "code",
   "outputs": [],
   "execution_count": null,
   "source": [],
   "id": "1c9833e8fa67b398"
  }
 ],
 "metadata": {
  "kernelspec": {
   "display_name": "Python 3.11",
   "language": "python",
   "name": "python3"
  },
  "language_info": {
   "codemirror_mode": {
    "name": "ipython",
    "version": 3
   },
   "file_extension": ".py",
   "mimetype": "text/x-python",
   "name": "python",
   "nbconvert_exporter": "python",
   "pygments_lexer": "ipython3",
   "version": "3.11.4"
  }
 },
 "nbformat": 4,
 "nbformat_minor": 5
}
