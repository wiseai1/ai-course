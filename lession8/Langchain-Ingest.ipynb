{
 "cells": [
  {
   "cell_type": "markdown",
   "id": "3420575b-4d00-458b-aa0e-7030008ccd53",
   "metadata": {},
   "source": [
    "## Creating an index and populating it with documents using FAISS\n",
    "\n",
    "Simple example on how to ingest PDF documents, then web pages content into a FAISS VectorStore.\n"
   ]
  },
  {
   "cell_type": "markdown",
   "id": "1a82063d-6153-4812-8977-042241736b53",
   "metadata": {},
   "source": [
    "### Base parameters"
   ]
  },
  {
   "cell_type": "code",
   "id": "417ed4a4-9418-4f48-bebd-ef0ea11ae434",
   "metadata": {
    "tags": [],
    "ExecuteTime": {
     "end_time": "2024-06-01T03:38:00.336320Z",
     "start_time": "2024-06-01T03:38:00.328237Z"
    }
   },
   "source": [
    "index_name = \"pdf_docs\""
   ],
   "outputs": [],
   "execution_count": 8
  },
  {
   "cell_type": "markdown",
   "id": "9b499a49-128c-4be5-903b-76c40771c7bc",
   "metadata": {
    "tags": []
   },
   "source": [
    "#### Imports"
   ]
  },
  {
   "cell_type": "code",
   "id": "600cd763-6ecc-4c77-89c0-47108c31c44e",
   "metadata": {
    "tags": [],
    "ExecuteTime": {
     "end_time": "2024-06-01T03:38:34.119686Z",
     "start_time": "2024-06-01T03:38:34.113192Z"
    }
   },
   "source": [
    "from langchain.document_loaders import PyPDFDirectoryLoader\n",
    "from langchain.text_splitter import RecursiveCharacterTextSplitter\n",
    "from langchain.embeddings.huggingface import HuggingFaceEmbeddings\n",
    "from langchain_community.vectorstores import FAISS"
   ],
   "outputs": [],
   "execution_count": 11
  },
  {
   "cell_type": "markdown",
   "id": "f68f6785-480e-4519-be4f-8e1738dba4ca",
   "metadata": {},
   "source": [
    "## Initial index creation and document ingestion"
   ]
  },
  {
   "cell_type": "markdown",
   "id": "f8cff5f7-c509-48db-90b5-e15815b8b530",
   "metadata": {},
   "source": [
    "#### Document loading from a folder containing PDFs"
   ]
  },
  {
   "cell_type": "code",
   "id": "dde8a4a3-d602-49c6-b4a5-31a76b25a58b",
   "metadata": {
    "tags": [],
    "ExecuteTime": {
     "end_time": "2024-06-01T03:38:35.930031Z",
     "start_time": "2024-06-01T03:38:35.861407Z"
    }
   },
   "source": [
    "pdf_folder_path = 'pdf'\n",
    "\n",
    "loader = PyPDFDirectoryLoader(pdf_folder_path)\n",
    "docs = loader.load()"
   ],
   "outputs": [],
   "execution_count": 12
  },
  {
   "cell_type": "markdown",
   "id": "4198fe0a-38bf-4cd4-af7d-35b41c645edd",
   "metadata": {},
   "source": [
    "#### Split documents into chunks with some overlap"
   ]
  },
  {
   "cell_type": "code",
   "id": "edba4a08-2194-4df1-9091-6f2b596757a1",
   "metadata": {
    "tags": [],
    "ExecuteTime": {
     "end_time": "2024-06-01T03:38:37.447674Z",
     "start_time": "2024-06-01T03:38:37.438463Z"
    }
   },
   "source": [
    "text_splitter = RecursiveCharacterTextSplitter(chunk_size=1024,\n",
    "                                               chunk_overlap=40)\n",
    "all_splits = text_splitter.split_documents(docs)"
   ],
   "outputs": [],
   "execution_count": 13
  },
  {
   "cell_type": "markdown",
   "id": "7ae7eae2-c670-4eb5-803b-b4d591fa83db",
   "metadata": {},
   "source": [
    "#### Create the index and ingest the documents"
   ]
  },
  {
   "cell_type": "code",
   "id": "bbb6a3e3-5ccd-441e-b80d-427555d9e9f6",
   "metadata": {
    "tags": [],
    "ExecuteTime": {
     "end_time": "2024-06-01T03:38:43.125792Z",
     "start_time": "2024-06-01T03:38:38.947786Z"
    }
   },
   "source": [
    "embeddings = HuggingFaceEmbeddings()\n",
    "faiss_index = FAISS.from_documents(all_splits, embeddings)"
   ],
   "outputs": [
    {
     "name": "stderr",
     "output_type": "stream",
     "text": [
      "/Users/neoxu/ai-course/lib/python3.11/site-packages/huggingface_hub/file_download.py:1132: FutureWarning: `resume_download` is deprecated and will be removed in version 1.0.0. Downloads always resume when possible. If you want to force a new download, use `force_download=True`.\n",
      "  warnings.warn(\n"
     ]
    }
   ],
   "execution_count": 14
  },
  {
   "cell_type": "markdown",
   "id": "4940a12c-7a13-4a81-94b2-415f1440e9c3",
   "metadata": {},
   "source": [
    "#### Write the schema to a yaml file to be able to open the index later on"
   ]
  },
  {
   "cell_type": "code",
   "id": "f445a19a-debb-4d66-b859-37c53f6d3095",
   "metadata": {
    "tags": [],
    "ExecuteTime": {
     "end_time": "2024-06-01T03:38:56.998658Z",
     "start_time": "2024-06-01T03:38:55.626962Z"
    }
   },
   "source": [
    "faiss_index.save_local(\"pdf\", index_name)\n",
    "\n",
    "faiss_index.add_documents(all_splits)\n"
   ],
   "outputs": [
    {
     "data": {
      "text/plain": "['5ccee31b-a2a9-4e87-9b0d-6e60f16c07a0',\n 'd22241b6-c2ab-4a36-a5d0-f78efa1c54d1',\n '56c37ebf-382b-4147-a91b-7f2a8174145a',\n '6b10a531-ccd6-4c89-ad85-581dc777845e',\n '931fb08f-246b-4de1-b2b9-66256ab6e4f1',\n 'd26e166d-8192-4ad4-bfbe-602f74d1e05b',\n '2fbd7e06-e4f3-4353-ac61-831ee0101f93',\n '82350946-64f1-45f5-bb4c-0a7d701586bd',\n 'a864abd8-b6e5-4ac3-9efa-86c75d5ce582',\n '0bfb8409-95af-4468-96a8-5335a43745da',\n 'c2bbfa0f-8e13-413f-87df-66edf650b3d5']"
     },
     "execution_count": 15,
     "metadata": {},
     "output_type": "execute_result"
    }
   ],
   "execution_count": 15
  },
  {
   "cell_type": "markdown",
   "id": "8d9d4869-be21-4cf4-a72c-2e58bcc1ab43",
   "metadata": {},
   "source": [
    "## Ingesting new documents"
   ]
  },
  {
   "cell_type": "markdown",
   "id": "d3052c81-7652-4ef0-acaf-883608a9ff85",
   "metadata": {},
   "source": [
    "#### Example with Web pages"
   ]
  },
  {
   "cell_type": "code",
   "execution_count": 8,
   "id": "998bcc21-d03c-4889-83a6-09c62cab25eb",
   "metadata": {
    "tags": []
   },
   "outputs": [],
   "source": [
    "from langchain.document_loaders import WebBaseLoader"
   ]
  },
  {
   "cell_type": "code",
   "execution_count": 10,
   "id": "354cfe78-9d90-404a-8648-98fb2e79ff6d",
   "metadata": {
    "tags": []
   },
   "outputs": [],
   "source": [
    "loader = WebBaseLoader([\"https://ai-on-openshift.io/getting-started/openshift/\",\n",
    "                        \"https://ai-on-openshift.io/getting-started/opendatahub/\",\n",
    "                        \"https://ai-on-openshift.io/getting-started/openshift-data-science/\",\n",
    "                        \"https://ai-on-openshift.io/odh-rhods/configuration/\",\n",
    "                        \"https://ai-on-openshift.io/odh-rhods/custom-notebooks/\",\n",
    "                        \"https://ai-on-openshift.io/odh-rhods/nvidia-gpus/\",\n",
    "                        \"https://ai-on-openshift.io/odh-rhods/custom-runtime-triton/\",\n",
    "                        \"https://ai-on-openshift.io/odh-rhods/openshift-group-management/\",\n",
    "                        \"https://ai-on-openshift.io/tools-and-applications/minio/minio/\"\n",
    "                       ])"
   ]
  },
  {
   "cell_type": "code",
   "execution_count": 11,
   "id": "8ab4eaf5-d177-4410-ae9d-a012f7ffafad",
   "metadata": {
    "tags": []
   },
   "outputs": [],
   "source": [
    "data = loader.load()"
   ]
  },
  {
   "cell_type": "code",
   "execution_count": 13,
   "id": "92838fe4-5b33-4835-b7e3-643ddef952c2",
   "metadata": {
    "tags": []
   },
   "outputs": [],
   "source": [
    "text_splitter = RecursiveCharacterTextSplitter(chunk_size=1024,\n",
    "                                               chunk_overlap=40)\n",
    "all_splits = text_splitter.split_documents(data)"
   ]
  },
  {
   "cell_type": "code",
   "execution_count": 14,
   "id": "ffd66d87-8314-4b2f-9c02-e856e1035e6b",
   "metadata": {
    "tags": []
   },
   "outputs": [],
   "source": [
    "embeddings = HuggingFaceEmbeddings()\n",
    "faiss_index = FAISS.from_documents(all_splits, embeddings)"
   ]
  },
  {
   "cell_type": "code",
   "id": "9d2355aa-5096-482a-ac39-4d285e63fb39",
   "metadata": {
    "tags": [],
    "ExecuteTime": {
     "end_time": "2024-06-01T03:26:24.151096Z",
     "start_time": "2024-06-01T03:26:23.794294Z"
    }
   },
   "source": [
    "faiss_index.add_documents(all_splits)"
   ],
   "outputs": [
    {
     "data": {
      "text/plain": "['f4c03e9c-4ba3-481c-91f6-11af99745e26',\n '09a19392-ab4c-4eb8-ab76-10afbe08954b',\n '15ad6c60-a630-4139-ae87-730b5617fd7d',\n 'df35721f-cb4e-412c-a0dd-87a86ecd49fe',\n '49189c0c-56e2-4b3c-b3d5-9b991f080845',\n '46fecf43-8139-41ff-879c-40375a5405b9',\n 'ea8affe0-3161-42d8-9260-dcd72e1326fe',\n '96745a91-626d-453e-b482-a36950c52f6f',\n 'e038d2cd-7095-4030-af87-2f46cda83a1c',\n 'ed4aacd7-c9af-4529-bac6-99e7b7bd79ad',\n 'a9b62fef-c4c2-4c6c-bb04-8378291c118e']"
     },
     "execution_count": 7,
     "metadata": {},
     "output_type": "execute_result"
    }
   ],
   "execution_count": 7
  },
  {
   "metadata": {},
   "cell_type": "code",
   "outputs": [],
   "execution_count": null,
   "source": [],
   "id": "1c9833e8fa67b398"
  }
 ],
 "metadata": {
  "kernelspec": {
   "display_name": "Python 3.11",
   "language": "python",
   "name": "python3"
  },
  "language_info": {
   "codemirror_mode": {
    "name": "ipython",
    "version": 3
   },
   "file_extension": ".py",
   "mimetype": "text/x-python",
   "name": "python",
   "nbconvert_exporter": "python",
   "pygments_lexer": "ipython3",
   "version": "3.11.4"
  }
 },
 "nbformat": 4,
 "nbformat_minor": 5
}
