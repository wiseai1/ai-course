{
 "cells": [
  {
   "cell_type": "markdown",
   "id": "3420575b-4d00-458b-aa0e-7030008ccd53",
   "metadata": {},
   "source": [
    "## Creating an index and populating it with documents using FAISS\n",
    "\n",
    "Simple example on how to ingest PDF documents, then web pages content into a FAISS VectorStore.\n"
   ]
  },
  {
   "cell_type": "markdown",
   "id": "1a82063d-6153-4812-8977-042241736b53",
   "metadata": {},
   "source": "### Base parameters"
  },
  {
   "cell_type": "code",
   "id": "417ed4a4-9418-4f48-bebd-ef0ea11ae434",
   "metadata": {
    "tags": [],
    "ExecuteTime": {
     "end_time": "2024-05-31T12:26:15.129680Z",
     "start_time": "2024-05-31T12:26:15.124157Z"
    }
   },
   "source": "index_name = \"pdf_docs\"",
   "outputs": [],
   "execution_count": 1
  },
  {
   "cell_type": "markdown",
   "id": "9b499a49-128c-4be5-903b-76c40771c7bc",
   "metadata": {
    "tags": []
   },
   "source": [
    "#### Imports"
   ]
  },
  {
   "cell_type": "code",
   "id": "600cd763-6ecc-4c77-89c0-47108c31c44e",
   "metadata": {
    "tags": [],
    "ExecuteTime": {
     "end_time": "2024-05-31T12:26:57.384015Z",
     "start_time": "2024-05-31T12:26:56.733969Z"
    }
   },
   "source": [
    "from langchain.document_loaders import PyPDFDirectoryLoader\n",
    "from langchain.text_splitter import RecursiveCharacterTextSplitter\n",
    "from langchain.embeddings.huggingface import HuggingFaceEmbeddings\n",
    "from langchain.vectorstores.faiss import FAISS"
   ],
   "outputs": [],
   "execution_count": 2
  },
  {
   "cell_type": "markdown",
   "id": "f68f6785-480e-4519-be4f-8e1738dba4ca",
   "metadata": {},
   "source": [
    "## Initial index creation and document ingestion"
   ]
  },
  {
   "cell_type": "markdown",
   "id": "f8cff5f7-c509-48db-90b5-e15815b8b530",
   "metadata": {},
   "source": [
    "#### Document loading from a folder containing PDFs"
   ]
  },
  {
   "cell_type": "code",
   "id": "dde8a4a3-d602-49c6-b4a5-31a76b25a58b",
   "metadata": {
    "tags": [],
    "ExecuteTime": {
     "end_time": "2024-05-31T12:34:23.251073Z",
     "start_time": "2024-05-31T12:34:23.123840Z"
    }
   },
   "source": [
    "pdf_folder_path = 'pdf'\n",
    "\n",
    "loader = PyPDFDirectoryLoader(pdf_folder_path)\n",
    "docs = loader.load()"
   ],
   "outputs": [],
   "execution_count": 8
  },
  {
   "cell_type": "markdown",
   "id": "4198fe0a-38bf-4cd4-af7d-35b41c645edd",
   "metadata": {},
   "source": [
    "#### Split documents into chunks with some overlap"
   ]
  },
  {
   "cell_type": "code",
   "id": "edba4a08-2194-4df1-9091-6f2b596757a1",
   "metadata": {
    "tags": [],
    "ExecuteTime": {
     "end_time": "2024-05-31T12:29:46.554068Z",
     "start_time": "2024-05-31T12:29:46.549855Z"
    }
   },
   "source": [
    "text_splitter = RecursiveCharacterTextSplitter(chunk_size=1024,\n",
    "                                               chunk_overlap=40)\n",
    "all_splits = text_splitter.split_documents(docs)"
   ],
   "outputs": [],
   "execution_count": 6
  },
  {
   "cell_type": "markdown",
   "id": "7ae7eae2-c670-4eb5-803b-b4d591fa83db",
   "metadata": {},
   "source": [
    "#### Create the index and ingest the documents"
   ]
  },
  {
   "cell_type": "code",
   "id": "bbb6a3e3-5ccd-441e-b80d-427555d9e9f6",
   "metadata": {
    "tags": [],
    "ExecuteTime": {
     "end_time": "2024-05-31T12:35:45.770890Z",
     "start_time": "2024-05-31T12:34:26.959593Z"
    }
   },
   "source": [
    "embeddings = HuggingFaceEmbeddings()\n",
    "faiss_index = FAISS.from_documents(all_splits, embeddings)"
   ],
   "outputs": [
    {
     "name": "stderr",
     "output_type": "stream",
     "text": [
      "C:\\Users\\User\\PycharmProjects\\ai-course\\venv\\Lib\\site-packages\\sentence_transformers\\cross_encoder\\CrossEncoder.py:11: TqdmExperimentalWarning: Using `tqdm.autonotebook.tqdm` in notebook mode. Use `tqdm.tqdm` instead to force console mode (e.g. in jupyter console)\n",
      "  from tqdm.autonotebook import tqdm, trange\n"
     ]
    },
    {
     "data": {
      "text/plain": [
       "modules.json:   0%|          | 0.00/349 [00:00<?, ?B/s]"
      ],
      "application/vnd.jupyter.widget-view+json": {
       "version_major": 2,
       "version_minor": 0,
       "model_id": "cad2a86caa5844f38c9aed9b230aaa97"
      }
     },
     "metadata": {},
     "output_type": "display_data"
    },
    {
     "name": "stderr",
     "output_type": "stream",
     "text": [
      "C:\\Users\\User\\PycharmProjects\\ai-course\\venv\\Lib\\site-packages\\huggingface_hub\\file_download.py:157: UserWarning: `huggingface_hub` cache-system uses symlinks by default to efficiently store duplicated files but your machine does not support them in C:\\Users\\User\\.cache\\huggingface\\hub\\models--sentence-transformers--all-mpnet-base-v2. Caching files will still work but in a degraded version that might require more space on your disk. This warning can be disabled by setting the `HF_HUB_DISABLE_SYMLINKS_WARNING` environment variable. For more details, see https://huggingface.co/docs/huggingface_hub/how-to-cache#limitations.\n",
      "To support symlinks on Windows, you either need to activate Developer Mode or to run Python as an administrator. In order to see activate developer mode, see this article: https://docs.microsoft.com/en-us/windows/apps/get-started/enable-your-device-for-development\n",
      "  warnings.warn(message)\n"
     ]
    },
    {
     "data": {
      "text/plain": [
       "config_sentence_transformers.json:   0%|          | 0.00/116 [00:00<?, ?B/s]"
      ],
      "application/vnd.jupyter.widget-view+json": {
       "version_major": 2,
       "version_minor": 0,
       "model_id": "d9aa6b082de445f5a7457e1f920893b0"
      }
     },
     "metadata": {},
     "output_type": "display_data"
    },
    {
     "data": {
      "text/plain": [
       "README.md:   0%|          | 0.00/10.6k [00:00<?, ?B/s]"
      ],
      "application/vnd.jupyter.widget-view+json": {
       "version_major": 2,
       "version_minor": 0,
       "model_id": "24536b379bfc414bad06b15b0afd02b8"
      }
     },
     "metadata": {},
     "output_type": "display_data"
    },
    {
     "data": {
      "text/plain": [
       "sentence_bert_config.json:   0%|          | 0.00/53.0 [00:00<?, ?B/s]"
      ],
      "application/vnd.jupyter.widget-view+json": {
       "version_major": 2,
       "version_minor": 0,
       "model_id": "43269412d1b149ffa03e4ddc64f69be3"
      }
     },
     "metadata": {},
     "output_type": "display_data"
    },
    {
     "name": "stderr",
     "output_type": "stream",
     "text": [
      "C:\\Users\\User\\PycharmProjects\\ai-course\\venv\\Lib\\site-packages\\huggingface_hub\\file_download.py:1132: FutureWarning: `resume_download` is deprecated and will be removed in version 1.0.0. Downloads always resume when possible. If you want to force a new download, use `force_download=True`.\n",
      "  warnings.warn(\n"
     ]
    },
    {
     "data": {
      "text/plain": [
       "config.json:   0%|          | 0.00/571 [00:00<?, ?B/s]"
      ],
      "application/vnd.jupyter.widget-view+json": {
       "version_major": 2,
       "version_minor": 0,
       "model_id": "3ba02a69914d44b49a0c651fd5d784eb"
      }
     },
     "metadata": {},
     "output_type": "display_data"
    },
    {
     "data": {
      "text/plain": [
       "model.safetensors:   0%|          | 0.00/438M [00:00<?, ?B/s]"
      ],
      "application/vnd.jupyter.widget-view+json": {
       "version_major": 2,
       "version_minor": 0,
       "model_id": "26559f61e1bf4073918a5cb3f50ea751"
      }
     },
     "metadata": {},
     "output_type": "display_data"
    },
    {
     "data": {
      "text/plain": [
       "tokenizer_config.json:   0%|          | 0.00/363 [00:00<?, ?B/s]"
      ],
      "application/vnd.jupyter.widget-view+json": {
       "version_major": 2,
       "version_minor": 0,
       "model_id": "834f2a7369fd4f26a9b66ab60c528593"
      }
     },
     "metadata": {},
     "output_type": "display_data"
    },
    {
     "data": {
      "text/plain": [
       "vocab.txt:   0%|          | 0.00/232k [00:00<?, ?B/s]"
      ],
      "application/vnd.jupyter.widget-view+json": {
       "version_major": 2,
       "version_minor": 0,
       "model_id": "8272532baf194147a627e0dcab2469a3"
      }
     },
     "metadata": {},
     "output_type": "display_data"
    },
    {
     "data": {
      "text/plain": [
       "tokenizer.json:   0%|          | 0.00/466k [00:00<?, ?B/s]"
      ],
      "application/vnd.jupyter.widget-view+json": {
       "version_major": 2,
       "version_minor": 0,
       "model_id": "aaa7584ccc2d42ad86c9183ef0bd306c"
      }
     },
     "metadata": {},
     "output_type": "display_data"
    },
    {
     "data": {
      "text/plain": [
       "special_tokens_map.json:   0%|          | 0.00/239 [00:00<?, ?B/s]"
      ],
      "application/vnd.jupyter.widget-view+json": {
       "version_major": 2,
       "version_minor": 0,
       "model_id": "a53e0f7905df41c08a5b383601211849"
      }
     },
     "metadata": {},
     "output_type": "display_data"
    },
    {
     "data": {
      "text/plain": [
       "1_Pooling/config.json:   0%|          | 0.00/190 [00:00<?, ?B/s]"
      ],
      "application/vnd.jupyter.widget-view+json": {
       "version_major": 2,
       "version_minor": 0,
       "model_id": "4f0738a4b7b246cdbd489f52513690ce"
      }
     },
     "metadata": {},
     "output_type": "display_data"
    }
   ],
   "execution_count": 9
  },
  {
   "cell_type": "markdown",
   "id": "4940a12c-7a13-4a81-94b2-415f1440e9c3",
   "metadata": {},
   "source": [
    "#### Write the schema to a yaml file to be able to open the index later on"
   ]
  },
  {
   "cell_type": "code",
   "id": "f445a19a-debb-4d66-b859-37c53f6d3095",
   "metadata": {
    "tags": [],
    "ExecuteTime": {
     "end_time": "2024-05-31T12:39:00.128500Z",
     "start_time": "2024-05-31T12:39:00.122482Z"
    }
   },
   "source": "faiss_index.save_local(\"pdf\", index_name)",
   "outputs": [],
   "execution_count": 10
  },
  {
   "cell_type": "markdown",
   "id": "8d9d4869-be21-4cf4-a72c-2e58bcc1ab43",
   "metadata": {},
   "source": [
    "## Ingesting new documents"
   ]
  },
  {
   "cell_type": "markdown",
   "id": "d3052c81-7652-4ef0-acaf-883608a9ff85",
   "metadata": {},
   "source": [
    "#### Example with Web pages"
   ]
  },
  {
   "cell_type": "code",
   "execution_count": 8,
   "id": "998bcc21-d03c-4889-83a6-09c62cab25eb",
   "metadata": {
    "tags": []
   },
   "outputs": [],
   "source": [
    "from langchain.document_loaders import WebBaseLoader"
   ]
  },
  {
   "cell_type": "code",
   "execution_count": 10,
   "id": "354cfe78-9d90-404a-8648-98fb2e79ff6d",
   "metadata": {
    "tags": []
   },
   "outputs": [],
   "source": [
    "loader = WebBaseLoader([\"https://ai-on-openshift.io/getting-started/openshift/\",\n",
    "                        \"https://ai-on-openshift.io/getting-started/opendatahub/\",\n",
    "                        \"https://ai-on-openshift.io/getting-started/openshift-data-science/\",\n",
    "                        \"https://ai-on-openshift.io/odh-rhods/configuration/\",\n",
    "                        \"https://ai-on-openshift.io/odh-rhods/custom-notebooks/\",\n",
    "                        \"https://ai-on-openshift.io/odh-rhods/nvidia-gpus/\",\n",
    "                        \"https://ai-on-openshift.io/odh-rhods/custom-runtime-triton/\",\n",
    "                        \"https://ai-on-openshift.io/odh-rhods/openshift-group-management/\",\n",
    "                        \"https://ai-on-openshift.io/tools-and-applications/minio/minio/\"\n",
    "                       ])"
   ]
  },
  {
   "cell_type": "code",
   "execution_count": 11,
   "id": "8ab4eaf5-d177-4410-ae9d-a012f7ffafad",
   "metadata": {
    "tags": []
   },
   "outputs": [],
   "source": [
    "data = loader.load()"
   ]
  },
  {
   "cell_type": "code",
   "execution_count": 13,
   "id": "92838fe4-5b33-4835-b7e3-643ddef952c2",
   "metadata": {
    "tags": []
   },
   "outputs": [],
   "source": [
    "text_splitter = RecursiveCharacterTextSplitter(chunk_size=1024,\n",
    "                                               chunk_overlap=40)\n",
    "all_splits = text_splitter.split_documents(data)"
   ]
  },
  {
   "cell_type": "code",
   "execution_count": 14,
   "id": "ffd66d87-8314-4b2f-9c02-e856e1035e6b",
   "metadata": {
    "tags": []
   },
   "outputs": [],
   "source": [
    "embeddings = HuggingFaceEmbeddings()\n",
    "faiss_index = FAISS.from_documents(all_splits, embeddings)"
   ]
  },
  {
   "cell_type": "code",
   "id": "9d2355aa-5096-482a-ac39-4d285e63fb39",
   "metadata": {
    "tags": [],
    "ExecuteTime": {
     "end_time": "2024-05-31T12:39:28.322962Z",
     "start_time": "2024-05-31T12:39:16.326964Z"
    }
   },
   "source": "faiss_index.add_documents(all_splits)",
   "outputs": [
    {
     "data": {
      "text/plain": [
       "['f6cd0a8a-9fb8-4e96-b739-1e471e4fa91e',\n",
       " '1e5906f5-f391-47f2-88c8-55c7407987f4',\n",
       " '6734579a-17da-49b6-b843-655a4b2c6c74',\n",
       " 'e7972a9d-67aa-4b82-bb6e-9939b96065a6',\n",
       " '50e81553-f392-4f76-b0c9-d84b20772ca2',\n",
       " 'f88b4b9f-73e9-4b73-8289-eece688591f2',\n",
       " 'c9d61914-860f-4a72-bcc5-2aee42aac734',\n",
       " '5af02199-1172-439b-b388-c5c3c77f7e16',\n",
       " 'ca704d9f-5e42-4dce-bee6-0531fa6b5d60',\n",
       " '27e9b43f-2087-46bd-a90a-21ea829c16f2',\n",
       " '04a1dd4a-2f75-47d6-8fe1-4c831b84a01d',\n",
       " 'fd0d4b65-c7e4-4819-86fd-c04598150809',\n",
       " 'f89abe3b-1a0e-4a50-9c1a-677d06665fd2',\n",
       " '439a0f6e-8245-4382-ae55-5639b58d8243',\n",
       " 'ae93ff22-0cfc-4123-a743-f69d9e7f3515',\n",
       " '6f6a2ec9-b1fb-4493-a81b-49a539a71af9',\n",
       " '8d9c5260-cf93-4db3-91a9-59fbfe5b7aee',\n",
       " '491d2b10-9ba2-474c-b872-a4eae2536a0f',\n",
       " '0a623895-ba01-40a3-8974-fece0f519006',\n",
       " '3e14aaca-f687-49ec-a632-38e8345a5259',\n",
       " '786150a9-78d0-49cb-938b-8637184e9d53',\n",
       " '82bea82a-7ccd-4734-a3c6-42c730f15421',\n",
       " '690e38c4-d711-4512-957e-7830da024c2d',\n",
       " '979f1089-5c42-488a-96c6-47464900a728',\n",
       " 'dd467ca0-e5f6-459a-aa39-747242fb7a8c',\n",
       " 'e7a18744-3218-45ad-b1ec-d70aa0167775',\n",
       " '7824399f-8672-4b49-a252-ad664e249e02',\n",
       " '504c9397-aa35-4218-a8d3-5715990cf83a',\n",
       " '8defdc5a-036a-42ff-90ab-8baa0a9a42bf',\n",
       " '8e475484-29b5-4b46-a9be-0740a52cd807',\n",
       " '0b47346d-0f43-4dc5-acdb-a3bf4ac884f0',\n",
       " '91c39c9e-d7ea-41c2-99ec-50bdd78ee194',\n",
       " '02e2785c-63a6-47e6-9e42-860ddac3d65a',\n",
       " 'a9276023-1bf8-4474-b8f2-6783d1815128',\n",
       " 'a18d5e99-b6f1-4ddc-9875-987a71cc4eef',\n",
       " '602bf2c9-8fc2-4a19-8622-e45c1c5e4efc',\n",
       " '11c7278d-40e2-4139-aea0-c96d1ed50fb2',\n",
       " '8e37f9d3-b649-47b8-bdfa-777907c9a90d',\n",
       " '873a1964-da39-4fa7-ba2b-8eb3d0c5b81d',\n",
       " '9ab42c8d-faad-476f-98e4-df34244b6ab4',\n",
       " '05f7e317-1777-4daa-b0b6-b9a39b536da1',\n",
       " '447b38f2-39c8-4fbc-9588-7241a79a4c61',\n",
       " '4e2f99d4-40b8-4054-9d57-73a37065200a',\n",
       " 'bea0663c-6511-4b35-a7ea-75030fab249c',\n",
       " '377c7747-fd07-45ce-9a63-8104c22cca6d',\n",
       " '9867ce4e-1ad2-47aa-9a9b-861f18917a04',\n",
       " 'ee097825-b889-469e-a3d8-a9061bb3720d',\n",
       " 'c0164042-e93a-40d0-a871-19dbb5d988d5',\n",
       " '14f263b9-9f18-4f5e-bee6-05399c93f922']"
      ]
     },
     "execution_count": 11,
     "metadata": {},
     "output_type": "execute_result"
    }
   ],
   "execution_count": 11
  },
  {
   "metadata": {},
   "cell_type": "code",
   "outputs": [],
   "execution_count": null,
   "source": "",
   "id": "1c9833e8fa67b398"
  }
 ],
 "metadata": {
  "kernelspec": {
   "display_name": "Python 3.11",
   "language": "python",
   "name": "python3"
  },
  "language_info": {
   "codemirror_mode": {
    "name": "ipython",
    "version": 3
   },
   "file_extension": ".py",
   "mimetype": "text/x-python",
   "name": "python",
   "nbconvert_exporter": "python",
   "pygments_lexer": "ipython3",
   "version": "3.11.4"
  }
 },
 "nbformat": 4,
 "nbformat_minor": 5
}
