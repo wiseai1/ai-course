{
 "cells": [
  {
   "cell_type": "markdown",
   "id": "165a3407",
   "metadata": {},
   "source": [
    "## Querying a Redis index\n",
    "\n",
    "Simple example on how to query content from a VectorStore.\n"
   ]
  },
  {
   "cell_type": "markdown",
   "id": "f0b8ecae",
   "metadata": {},
   "source": "### Base parameters, "
  },
  {
   "cell_type": "code",
   "id": "9376e567",
   "metadata": {
    "ExecuteTime": {
     "end_time": "2024-05-31T23:26:01.332249Z",
     "start_time": "2024-05-31T23:26:01.326250Z"
    }
   },
   "source": "index_name = \"pdf_docs\"",
   "outputs": [],
   "execution_count": 1
  },
  {
   "cell_type": "markdown",
   "id": "6e4572e1",
   "metadata": {},
   "source": [
    "### Imports"
   ]
  },
  {
   "cell_type": "code",
   "id": "83e11d23-c0ad-4875-b67f-149fc8b14725",
   "metadata": {
    "tags": [],
    "ExecuteTime": {
     "end_time": "2024-05-31T23:26:02.214215Z",
     "start_time": "2024-05-31T23:26:01.566396Z"
    }
   },
   "source": [
    "from langchain.embeddings.huggingface import HuggingFaceEmbeddings\n",
    "from langchain.vectorstores.faiss import FAISS"
   ],
   "outputs": [],
   "execution_count": 2
  },
  {
   "cell_type": "markdown",
   "id": "56d51868",
   "metadata": {},
   "source": [
    "### Initialize the connection"
   ]
  },
  {
   "cell_type": "code",
   "id": "bbb6a3e3-5ccd-441e-b80d-427555d9e9f6",
   "metadata": {
    "tags": [],
    "ExecuteTime": {
     "end_time": "2024-05-31T23:31:03.603658Z",
     "start_time": "2024-05-31T23:31:01.118655Z"
    }
   },
   "source": [
    "embeddings = HuggingFaceEmbeddings()\n",
    "faiss_index = FAISS.load_local(folder_path=\"C:/Users/User/PycharmProjects/ai-course/lession8/pdf\", embeddings=embeddings, index_name=index_name, allow_dangerous_deserialization=True)"
   ],
   "outputs": [],
   "execution_count": 12
  },
  {
   "cell_type": "markdown",
   "id": "9856851c",
   "metadata": {},
   "source": [
    "### Make a query to the index to verify sources"
   ]
  },
  {
   "cell_type": "code",
   "id": "9621e231-3541-40bc-85ef-8aa3b2ba2331",
   "metadata": {
    "tags": [],
    "ExecuteTime": {
     "end_time": "2024-05-31T23:29:12.954859Z",
     "start_time": "2024-05-31T23:29:12.483163Z"
    }
   },
   "source": [
    "query=\"which mobile plans does Telstra have?\"\n",
    "results =faiss_index.similarity_search(query, k=4, return_metadata=True)\n",
    "for result in results:\n",
    "    print(result.metadata['source'])"
   ],
   "outputs": [
    {
     "name": "stdout",
     "output_type": "stream",
     "text": [
      "pdf\\Telstra-Mobile-Plans.pdf\n",
      "pdf\\Telstra-Mobile-Plans.pdf\n",
      "pdf\\Telstra-Mobile-Plans.pdf\n",
      "pdf\\Telstra-Mobile-Plans.pdf\n"
     ]
    }
   ],
   "execution_count": 7
  },
  {
   "cell_type": "markdown",
   "id": "f1005e2c",
   "metadata": {},
   "source": [
    "### Work with a retriever"
   ]
  },
  {
   "metadata": {},
   "cell_type": "markdown",
   "source": "",
   "id": "9fc1f6c044a97f95"
  },
  {
   "cell_type": "code",
   "id": "566f9347-a40a-4eeb-a690-e199b91947a3",
   "metadata": {
    "tags": [],
    "ExecuteTime": {
     "end_time": "2024-05-31T23:30:21.300310Z",
     "start_time": "2024-05-31T23:30:21.296688Z"
    }
   },
   "source": "retriever = faiss_index.as_retriever(search_type=\"similarity\", search_kwargs={\"k\": 4})",
   "outputs": [],
   "execution_count": 9
  },
  {
   "cell_type": "code",
   "id": "1c378fbd-395d-43af-8cca-268bc05d0f51",
   "metadata": {
    "tags": [],
    "ExecuteTime": {
     "end_time": "2024-05-31T23:30:24.924523Z",
     "start_time": "2024-05-31T23:30:24.871188Z"
    }
   },
   "source": [
    "docs = retriever.get_relevant_documents(query)\n",
    "docs"
   ],
   "outputs": [
    {
     "name": "stderr",
     "output_type": "stream",
     "text": [
      "C:\\Users\\User\\PycharmProjects\\ai-course\\venv\\Lib\\site-packages\\langchain_core\\_api\\deprecation.py:119: LangChainDeprecationWarning: The method `BaseRetriever.get_relevant_documents` was deprecated in langchain-core 0.1.46 and will be removed in 0.3.0. Use invoke instead.\n",
      "  warn_deprecated(\n"
     ]
    },
    {
     "data": {
      "text/plain": [
       "[Document(page_content='com.au/Silver Telstra Plus \\nwith up to 1 year \\nupgrade for the first \\ntime you take up this \\nplanGold Telstra Plus with \\nup to 1 year upgrade \\nfor the first time you \\ntake up this planSign up to earn Telstra \\nPlus points today \\nhttps://plus.telstra.\\ncom.au/\\nMinimum Cost\\nCasual Month to \\nMonth$62 $72 $95$122 with Essential \\nMobile Plan\\nAll for use in Australia. For use in a smartphone or tablet only. FairPlay Policy applies.\\nCapped Speed:\\xa0 Download speeds for included data are capped at 250Mbps on our 4G and 5G network.\\nUltimate 4G & 5G Speeds:\\xa0 Included data comes with access to our fastest download speeds on our 4G and 5G network.\\nInformation about the service\\nTelstra will be switching off 3G in 2024.\\xa0Before switch off, you \\ncan use handsets supporting 3G on 850MHz and 4G minimally \\non 700MHz and 1800MHz. See telstra.com/device for more \\ninformation. After switch off you will still be able to access the \\nTelstra Mobile Network provided your device is 4G voice', metadata={'source': 'pdf\\\\Telstra-Mobile-Plans.pdf', 'page': 0}),\n",
       " Document(page_content=\"MOSC2382-04072023Page 1 of 2\\nTelstra Mobile Plans\\nCritical Information Summary\\nThis summary may not reflect any discounts or promotions which may apply from time to time\\nPlan Basic Essential Premium Mobile Bundle Plan\\nMinimum \\nMonthly Charge$62/mth $72/mth $95/mth $50/mth\\nAnnual Price \\nReviewPrice may increase by CPI annually in July\\nMonthly Data \\nAllowance50GB 180GB 300GB 25GB\\nNetwork Access 3G, 4G/4GX, 5G\\nPlan Speeds Capped SpeedUltimate 4G & 5G \\nSpeedsUltimate 4G & 5G \\nSpeedsUltimate 4G & 5G \\nSpeeds\\nCalls + SMS + \\nMMS + \\nMessageBank®\\nTo standard \\nAustralian \\nnumbersUnlimited\\nCalls + SMS + \\nMMS\\nTo international \\nnumbersPay as you go or purchase an International Call & SMS Pack\\nStandard international call rates can be found at\\xa0 https://www.telstra.com.au/mobile-phones\\n/calling-overseas-from-australia\\nRoaming Calls + \\nSMS + MMS\\nFor use while \\noverseasInternational Day Pass or opt out. Standard international roaming rates apply if you don't have\", metadata={'source': 'pdf\\\\Telstra-Mobile-Plans.pdf', 'page': 0}),\n",
       " Document(page_content=\"International Day Pass or travel in a country not covered by International Day Pass.\\nWhat's IncludedCalls, SMS and MMS to standard Australian numbers, as well as most 11xx, 12xx, 13xx, and 1800 \\nnumbers for use in Australia.\\nTelstra Directory Services (including 1223, 1234, 12456): $1.50 connection fee for through \\nconnection, plus standard rates for the connected call.\\nMonthly Data Allowance to use in Australia.\\nWhat's Not \\nIncludedThis plan cannot be used for:\\nData sharing with other services on your account\\nSMS & calls to premium numbers (e.g. 19xx numbers)\\nSome satellite numbers\\xa0\\nContent charges (including third party charges)\\nVisit\\xa0 \\xa0for information on rates telstra.com/customer-terms\\nDevicesYou can bring your own compatible device or purchase an eligible device with this plan, payable \\noutright, or over 12, 24 or 36 monthly payments. Some devices may not have a 36 month repayment \\noption.\\nTelstra PlusSign up to earn Telstra \\nPlus points today \\nhttps://plus.telstra.\\ncom.au/Silver Telstra Plus\", metadata={'source': 'pdf\\\\Telstra-Mobile-Plans.pdf', 'page': 0}),\n",
       " Document(page_content=\"85% and 100% of your Monthly Data allowance.\\xa0\\nTo check your usage:\\nuse the My Telstra app on your compatible smartphone or \\ntablet\\nsign in to My Telstra at telstra.com/my-telstra\\nFind out how to check your usage at telstra.com/myusage\\nFairPlay Policy\\nYou must comply with our FairPlay Policy and not use your \\nservice in an unacceptable, unreasonable or fraudulent \\nmanner, or in a way that detrimentally interferes with the \\nintegrity of, or causes significant congestion to, the network. \\nWe may take action if you breach the FairPlay Policy, including \\nsuspending or cancelling your\\xa0 service.\\nNeed help? We're here for you\\nVisit  for our support options. Call 13 22 telstra.com/contactus\\n00 or 133 677 (TTY), or +61 439 12 5109 from overseas, to \\nspeak to someone about your plan or to obtain a copy of this \\nsummary in an alternative/accessible format.\\nComplaints\\nIf there’s something you’re not happy with and you wish to \\nmake a complaint, visit . We like to telstra.com/complaints\", metadata={'source': 'pdf\\\\Telstra-Mobile-Plans.pdf', 'page': 1})]"
      ]
     },
     "execution_count": 10,
     "metadata": {},
     "output_type": "execute_result"
    }
   ],
   "execution_count": 10
  }
 ],
 "metadata": {
  "kernelspec": {
   "display_name": "Python 3.11",
   "language": "python",
   "name": "python3"
  },
  "language_info": {
   "codemirror_mode": {
    "name": "ipython",
    "version": 3
   },
   "file_extension": ".py",
   "mimetype": "text/x-python",
   "name": "python",
   "nbconvert_exporter": "python",
   "pygments_lexer": "ipython3",
   "version": "3.11.4"
  }
 },
 "nbformat": 4,
 "nbformat_minor": 5
}
