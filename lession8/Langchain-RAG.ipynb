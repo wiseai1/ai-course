{
 "cells": [
  {
   "cell_type": "markdown",
   "id": "2a331fd6",
   "metadata": {},
   "source": [
    "## RAG example with Langchain, FAISS and OpenAI\n"
   ]
  },
  {
   "cell_type": "markdown",
   "id": "9cd4537b",
   "metadata": {},
   "source": [
    "#### Bases parameters"
   ]
  },
  {
   "cell_type": "code",
   "execution_count": 11,
   "id": "51baf1a6-4111-4b40-b43a-833438bdc222",
   "metadata": {
    "tags": [],
    "ExecuteTime": {
     "end_time": "2024-06-01T04:01:08.888720Z",
     "start_time": "2024-06-01T04:01:08.880690Z"
    }
   },
   "source": [
    "index_name = 'pdf_docs'\n",
    "# Define the OpenAI API key\n",
    "openai_api_key = 'xxx'"
   ],
   "outputs": []
  },
  {
   "cell_type": "markdown",
   "id": "82970898",
   "metadata": {},
   "source": [
    "#### Imports"
   ]
  },
  {
   "cell_type": "code",
   "execution_count": 12,
   "id": "83e11d23-c0ad-4875-b67f-149fc8b14725",
   "metadata": {
    "tags": [],
    "ExecuteTime": {
     "end_time": "2024-06-01T04:01:11.824908Z",
     "start_time": "2024-06-01T04:01:11.526546Z"
    }
   },
   "source": [
    "from langchain.embeddings.huggingface import HuggingFaceEmbeddings\n",
    "from langchain_community.vectorstores import FAISS\n",
    "from langchain.llms import OpenAI\n",
    "import openai\n",
    "import os\n",
    "from tqdm import tqdm, trange\n",
    "from langchain.chains import create_retrieval_chain\n",
    "from langchain.chains.combine_documents import create_stuff_documents_chain\n",
    "from langchain_core.prompts import ChatPromptTemplate\n",
    "from langchain_openai import ChatOpenAI\n",
    "from pprint import pprint\n"
   ],
   "outputs": []
  },
  {
   "cell_type": "markdown",
   "id": "fe4c1b1a",
   "metadata": {},
   "source": [
    "#### Initialize the connection"
   ]
  },
  {
   "cell_type": "code",
   "execution_count": 13,
   "id": "bbb6a3e3-5ccd-441e-b80d-427555d9e9f6",
   "metadata": {
    "tags": [],
    "ExecuteTime": {
     "end_time": "2024-06-01T04:01:21.494177Z",
     "start_time": "2024-06-01T04:01:15.113046Z"
    }
   },
   "source": [
    "embeddings = HuggingFaceEmbeddings()\n",
    "faiss_index = FAISS.load_local(folder_path=\"pdf\", embeddings=embeddings, index_name=index_name, allow_dangerous_deserialization=True)\n",
    "\n",
    "retriever = faiss_index.as_retriever(search_type=\"similarity\", search_kwargs={\"k\": 4})"
   ],
   "outputs": [
    {
     "name": "stderr",
     "output_type": "stream",
     "text": [
      "/Users/neoxu/ai-course/lib/python3.11/site-packages/huggingface_hub/file_download.py:1132: FutureWarning: `resume_download` is deprecated and will be removed in version 1.0.0. Downloads always resume when possible. If you want to force a new download, use `force_download=True`.\n",
      "  warnings.warn(\n"
     ]
    }
   ]
  },
  {
   "cell_type": "markdown",
   "id": "b72a3a2b",
   "metadata": {},
   "source": [
    "#### Initialize query chain"
   ]
  },
  {
   "cell_type": "code",
   "execution_count": 14,
   "id": "ed8fd396-0798-45c5-8969-6b6ede134c77",
   "metadata": {
    "tags": [],
    "ExecuteTime": {
     "end_time": "2024-06-01T04:01:31.002960Z",
     "start_time": "2024-06-01T04:01:30.975780Z"
    }
   },
   "source": [
    "# NOTE: This template syntax is specific to Llama2\n",
    "system_prompt=\"\"\"<s>\n",
    "You are a helpful, respectful and honest assistant.\n",
    "You will be given a question you need to answer, and a context to provide you with information. You must answer the question based as much as possible on this context.\n",
    "Always answer as helpfully as possible, while being safe. Your answers should not include any harmful, unethical, racist, sexist, toxic, dangerous, or illegal content. Please ensure that your responses are socially unbiased and positive in nature.\n",
    "\n",
    "If a question does not make any sense, or is not factually coherent, explain why instead of answering something not correct. If you don't know the answer to a question, please don't share false information.\n",
    "\n",
    "Context: {context}\n",
    "\"\"\"\n",
    "\n",
    "llm = ChatOpenAI(openai_api_key=openai_api_key, model=\"gpt-4o\", max_tokens=512, temperature=0.1)\n",
    "\n",
    "prompt = ChatPromptTemplate.from_messages(\n",
    "    [\n",
    "        (\"system\", system_prompt),\n",
    "        (\"human\", \"{input}\"),\n",
    "    ]\n",
    ")\n",
    "\n",
    "retriever = faiss_index.as_retriever(index_name=index_name, search_type=\"similarity\", search_kwargs={\"k\": 4})\n",
    "\n",
    "question_answer_chain = create_stuff_documents_chain(llm, prompt)\n",
    "chain = create_retrieval_chain(retriever, question_answer_chain)"
   ],
   "outputs": []
  },
  {
   "cell_type": "markdown",
   "id": "3a45ad23",
   "metadata": {},
   "source": [
    "#### Query example"
   ]
  },
  {
   "cell_type": "code",
   "execution_count": 18,
   "id": "105d2fd1-f36c-409d-8e52-ec6d23a56ad1",
   "metadata": {
    "tags": [],
    "ExecuteTime": {
     "end_time": "2024-06-01T04:05:39.442599Z",
     "start_time": "2024-06-01T04:05:31.553576Z"
    }
   },
   "source": [
    "question = \"Which plan does Telstra have?\"\n",
    "result = chain.invoke({\"input\": question})\n",
    "\n",
    "pprint(result['answer'])"
   ],
   "outputs": [
    {
     "name": "stdout",
     "output_type": "stream",
     "text": [
      "('Telstra offers several mobile plans, as outlined in the provided context. '\n",
      " 'Here are the details of the available plans:\\n'\n",
      " '\\n'\n",
      " '1. **Basic Plan**\\n'\n",
      " '   - Minimum Monthly Charge: $62/month\\n'\n",
      " '   - Monthly Data Allowance: 50GB\\n'\n",
      " '   - Network Access: 3G, 4G/4GX, 5G\\n'\n",
      " '   - Plan Speeds: Capped Speed\\n'\n",
      " '   - Calls + SMS + MMS + MessageBank® to standard Australian numbers: '\n",
      " 'Unlimited\\n'\n",
      " '\\n'\n",
      " '2. **Essential Plan**\\n'\n",
      " '   - Minimum Monthly Charge: $72/month\\n'\n",
      " '   - Monthly Data Allowance: 180GB\\n'\n",
      " '   - Network Access: 3G, 4G/4GX, 5G\\n'\n",
      " '   - Plan Speeds: Ultimate 4G & 5G Speeds\\n'\n",
      " '   - Calls + SMS + MMS + MessageBank® to standard Australian numbers: '\n",
      " 'Unlimited\\n'\n",
      " '\\n'\n",
      " '3. **Premium Plan**\\n'\n",
      " '   - Minimum Monthly Charge: $95/month\\n'\n",
      " '   - Monthly Data Allowance: 300GB\\n'\n",
      " '   - Network Access: 3G, 4G/4GX, 5G\\n'\n",
      " '   - Plan Speeds: Ultimate 4G & 5G Speeds\\n'\n",
      " '   - Calls + SMS + MMS + MessageBank® to standard Australian numbers: '\n",
      " 'Unlimited\\n'\n",
      " '\\n'\n",
      " '4. **Mobile Bundle Plan**\\n'\n",
      " '   - Minimum Monthly Charge: $50/month\\n'\n",
      " '   - Monthly Data Allowance: 25GB\\n'\n",
      " '   - Network Access: 3G, 4G/4GX, 5G\\n'\n",
      " '   - Plan Speeds: Ultimate 4G & 5G Speeds\\n'\n",
      " '   - Calls + SMS + MMS + MessageBank® to standard Australian numbers: '\n",
      " 'Unlimited\\n'\n",
      " '\\n'\n",
      " 'Additionally, all plans include:\\n'\n",
      " '- Calls, SMS, and MMS to standard Australian numbers.\\n'\n",
      " '- Pay-as-you-go or purchase options for international calls and SMS.\\n'\n",
      " '- Options for international roaming with an International Day Pass or '\n",
      " 'standard international roaming rates.\\n'\n",
      " '\\n'\n",
      " \"For more details, you can visit Telstra's website or contact their support.\")\n"
     ]
    }
   ]
  },
  {
   "cell_type": "markdown",
   "id": "97d75d0c",
   "metadata": {},
   "source": [
    "#### Retrieve source"
   ]
  },
  {
   "cell_type": "code",
   "execution_count": null,
   "id": "acda357e-558a-4879-8ad8-21f0567f2f2e",
   "metadata": {
    "tags": []
   },
   "source": [
    "def remove_duplicates(input_list):\n",
    "    unique_list = []\n",
    "    for item in input_list:\n",
    "        if item.metadata['source'] not in unique_list:\n",
    "            unique_list.append(item.metadata['source'])\n",
    "    return unique_list\n",
    "\n",
    "results = remove_duplicates(result['source_documents'])\n",
    "\n",
    "for s in results:\n",
    "    print(s)"
   ],
   "outputs": []
  }
 ],
 "metadata": {
  "kernelspec": {
   "display_name": "Python 3.11",
   "language": "python",
   "name": "python3"
  },
  "language_info": {
   "codemirror_mode": {
    "name": "ipython",
    "version": 3
   },
   "file_extension": ".py",
   "mimetype": "text/x-python",
   "name": "python",
   "nbconvert_exporter": "python",
   "pygments_lexer": "ipython3",
   "version": "3.11.4"
  }
 },
 "nbformat": 4,
 "nbformat_minor": 5
}
