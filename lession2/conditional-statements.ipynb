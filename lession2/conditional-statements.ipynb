{
 "cells": [
  {
   "cell_type": "markdown",
   "id": "77e07296-3ac1-4246-a7a3-9331f81574d6",
   "metadata": {},
   "source": [
    "# if condition:\n",
    "        # execute code block"
   ]
  },
  {
   "cell_type": "code",
   "execution_count": 3,
   "id": "9aeb9515-a75f-4395-acfb-0349f430bd86",
   "metadata": {},
   "outputs": [
    {
     "name": "stdout",
     "output_type": "stream",
     "text": [
      "It's raining; don't forget an umbrella!\n"
     ]
    }
   ],
   "source": [
    "age = 25\n",
    "\n",
    "if age < 13:\n",
    "    print(\"Child\")\n",
    "\n",
    "\n",
    "temperature = 20  \n",
    "rain = True\n",
    "\n",
    "if temperature > 30:\n",
    "    print(\"It's hot outside; wear shorts!\")\n",
    "\n",
    "if temperature < 15:\n",
    "    print(\"It's cold outside; wear a jacket!\")\n",
    "\n",
    "if rain:\n",
    "    print(\"It's raining; don't forget an umbrella!\")\n"
   ]
  },
  {
   "cell_type": "markdown",
   "id": "a2bbcdd2-9fa7-4a66-9e32-dcf435e2e5be",
   "metadata": {},
   "source": [
    "# if condition:\n",
    "        # execute code if condition is true\n",
    "# else:\n",
    "        # execute code if condition if False"
   ]
  },
  {
   "cell_type": "code",
   "execution_count": null,
   "id": "dbd012dc-847e-4508-ae01-c08526ecfe69",
   "metadata": {},
   "outputs": [],
   "source": [
    "is_raining = False\n",
    "\n",
    "if is_raining:\n",
    "    print(\"It's raining. Better drive to work.\")\n",
    "else:\n",
    "    print(\"It's not raining. A nice day for a walk!\")\n"
   ]
  },
  {
   "cell_type": "markdown",
   "id": "cf98cb49-4d4b-48e6-b50e-a3ae9496c5c2",
   "metadata": {},
   "source": [
    "# if condition1:\n",
    "    # execute this statement\n",
    "# elif condition2:\n",
    "    # execute this statement\n",
    "    ..\n",
    "    ..\n",
    "# else:\n",
    "    # if none of the above conditions evaluate to True execute this statemen"
   ]
  },
  {
   "cell_type": "code",
   "execution_count": 4,
   "id": "8d89db18-f1f4-4aff-bfbf-270dc6aa54bd",
   "metadata": {},
   "outputs": [
    {
     "name": "stdout",
     "output_type": "stream",
     "text": [
      "Young Adult\n"
     ]
    }
   ],
   "source": [
    "age = 25\n",
    "\n",
    "if age < 13:\n",
    "    print(\"Child\")\n",
    "elif age < 20:\n",
    "    print(\"Teenager\")\n",
    "elif age < 30:\n",
    "    print(\"Young Adult\")\n",
    "elif age < 65:\n",
    "    print(\"Adult\")\n",
    "else:\n",
    "    print(\"Senior\")\n"
   ]
  },
  {
   "cell_type": "markdown",
   "id": "3a0f045e-785f-4fe8-be8b-1cbb71baa5e7",
   "metadata": {},
   "source": [
    "# Loops"
   ]
  },
  {
   "cell_type": "code",
   "execution_count": 6,
   "id": "73b51e41-4afa-44b5-b442-edf186799ff9",
   "metadata": {},
   "outputs": [
    {
     "name": "stdout",
     "output_type": "stream",
     "text": [
      "1\n",
      "2\n",
      "3\n",
      "4\n",
      "5\n",
      "Month 1: Finished reading book number 1.\n",
      "Month 2: Finished reading book number 2.\n",
      "Month 3: Finished reading book number 3.\n",
      "Month 4: Finished reading book number 4.\n",
      "Month 5: Finished reading book number 5.\n",
      "Month 6: Finished reading book number 6.\n",
      "Month 7: Finished reading book number 7.\n",
      "Month 8: Finished reading book number 8.\n",
      "Month 9: Finished reading book number 9.\n",
      "Month 10: Finished reading book number 10.\n",
      "Month 11: Finished reading book number 11.\n",
      "Month 12: Finished reading book number 12.\n",
      "You've reached your reading goal for the year!\n"
     ]
    }
   ],
   "source": [
    "i = 1\n",
    "while i < 6:\n",
    "  print(i)\n",
    "  i += 1\n",
    "\n",
    "goal_books_to_read = 12\n",
    "books_read_so_far = 0\n",
    "\n",
    "# while loop\n",
    "months = 0\n",
    "while books_read_so_far < goal_books_to_read:\n",
    "    months += 1\n",
    "    books_read_so_far += 1\n",
    "    print(f\"Month {months}: Finished reading book number {books_read_so_far}.\")\n",
    "\n",
    "    if months == 6 and books_read_so_far < 6:\n",
    "        print(\"You're behind your reading goal. Time to catch up!\")\n",
    "\n",
    "print(\"You've reached your reading goal for the year!\")\n",
    "\n",
    "# for loop\n",
    "fruits = [\"apple\", \"banana\", \"cherry\"]\n",
    "for x in fruits:\n",
    "  print(x)\n",
    "\n",
    "for x in \"banana\":\n",
    "  print(x)"
   ]
  },
  {
   "cell_type": "markdown",
   "id": "4ad9ccce-2852-4605-bc7f-046e52c5d2e9",
   "metadata": {},
   "source": [
    "# Packages"
   ]
  },
  {
   "cell_type": "code",
   "execution_count": 9,
   "id": "c8ca9802-cb07-45eb-b5c8-ca3bc5ed7648",
   "metadata": {},
   "outputs": [
    {
     "name": "stdout",
     "output_type": "stream",
     "text": [
      "Square root of 20:  4.47213595499958\n",
      "10 factorial:       3628800\n",
      "Square root of 20:  4.47213595499958\n",
      "10 factorial:       3628800\n"
     ]
    }
   ],
   "source": [
    "# package_name.object_name\n",
    "import math\n",
    "print('Square root of 20: ', math.sqrt(20))\n",
    "print('10 factorial:      ', math.factorial(10))\n",
    "\n",
    "\n",
    "# import package_name as alias\n",
    "import math as mt\n",
    "print('Square root of 20: ', mt.sqrt(20))\n",
    "print('10 factorial:      ', mt.factorial(10))"
   ]
  },
  {
   "cell_type": "markdown",
   "id": "5b2041f7-d503-4719-af45-648e062548fd",
   "metadata": {},
   "source": [
    "# Function"
   ]
  },
  {
   "cell_type": "code",
   "execution_count": 7,
   "id": "93a25e60-9e03-4b6b-8859-5d0a975f6785",
   "metadata": {},
   "outputs": [
    {
     "name": "stdout",
     "output_type": "stream",
     "text": [
      "Welcome to our program!\n",
      "The product is 12\n",
      "Minimum: 1, Maximum: 5\n"
     ]
    }
   ],
   "source": [
    "def welcome():\n",
    "    print(\"Welcome to our program!\")\n",
    "\n",
    "welcome()\n",
    "\n",
    "\n",
    "def multiply_numbers(number1, number2):\n",
    "    result = number1 * number2\n",
    "    return result\n",
    "\n",
    "product = multiply_numbers(3, 4)\n",
    "print(f\"The product is {product}\")  # Outputs: \"The product is 12\"\n",
    "\n",
    "\n",
    "def min_and_max(numbers):\n",
    "    return min(numbers), max(numbers)\n",
    "\n",
    "minimum, maximum = min_and_max([1, 2, 3, 4, 5])\n",
    "print(f\"Minimum: {minimum}, Maximum: {maximum}\")\n",
    "\n"
   ]
  },
  {
   "cell_type": "code",
   "execution_count": null,
   "id": "06bc0e2d-23a5-4c47-8cd2-4501a56b9296",
   "metadata": {},
   "outputs": [],
   "source": []
  }
 ],
 "metadata": {
  "kernelspec": {
   "display_name": "Python 3 (ipykernel)",
   "language": "python",
   "name": "python3"
  },
  "language_info": {
   "codemirror_mode": {
    "name": "ipython",
    "version": 3
   },
   "file_extension": ".py",
   "mimetype": "text/x-python",
   "name": "python",
   "nbconvert_exporter": "python",
   "pygments_lexer": "ipython3",
   "version": "3.12.2"
  }
 },
 "nbformat": 4,
 "nbformat_minor": 5
}
