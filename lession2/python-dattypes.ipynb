{
 "cells": [
  {
   "cell_type": "markdown",
   "id": "55f54f6118f7616",
   "metadata": {},
   "source": [
    "# Data Types - Text Type"
   ]
  },
  {
   "cell_type": "code",
   "execution_count": 1,
   "id": "2cb226f0f3741f3f",
   "metadata": {
    "jupyter": {
     "is_executing": true
    }
   },
   "outputs": [
    {
     "name": "stdout",
     "output_type": "stream",
     "text": [
      "Python World\n",
      "PYTHON WORLD\n",
      "python World\n"
     ]
    }
   ],
   "source": [
    "single_quote_str = 'Hello, World!'\n",
    "double_quote_str = \"Python Programming\"\n",
    "triple_quote_str = '''Triple quotes can be used\n",
    "for multi-line strings.'''\n",
    "\n",
    "s = \"python world\"\n",
    "print(s.title())  \n",
    "print(s.upper())  \n",
    "print(s.replace(\"w\", \"W\")) \n"
   ]
  },
  {
   "cell_type": "markdown",
   "id": "8a011cb2-f9f6-46dc-b710-f323f86ea604",
   "metadata": {},
   "source": [
    "# Data Types - Numeric Types (int, float)"
   ]
  },
  {
   "cell_type": "code",
   "execution_count": 3,
   "id": "040d3bf1-e25a-4d33-8433-0ee4fcc0750a",
   "metadata": {},
   "outputs": [
    {
     "name": "stdout",
     "output_type": "stream",
     "text": [
      "55\n",
      "4.0\n"
     ]
    }
   ],
   "source": [
    "x=5\n",
    "y=x*10+5\n",
    "print(y)\n",
    "\n",
    "x=0.5\n",
    "y=x*2+3\n",
    "print(y)"
   ]
  },
  {
   "cell_type": "markdown",
   "id": "05c26cd5-a429-4d28-bff8-3f5c128fa892",
   "metadata": {},
   "source": [
    "# Data Types - Sequence Types list"
   ]
  },
  {
   "cell_type": "code",
   "execution_count": 7,
   "id": "27387140-296b-4454-bf5f-3b32f904da95",
   "metadata": {},
   "outputs": [
    {
     "name": "stdout",
     "output_type": "stream",
     "text": [
      "mango\n",
      "3\n",
      "['grape', 'kiwi', 'mango', 'orange', 'pear']\n",
      "['pear', 'orange', 'mango', 'kiwi', 'grape']\n"
     ]
    }
   ],
   "source": [
    "fruits = [\"apple\", \"banana\", \"cherry\"]\n",
    "\n",
    "# Adding elements\n",
    "fruits.append('orange')  # Adds 'orange' to the end\n",
    "fruits.insert(1, 'mango')  # Inserts 'mango' at index 1\n",
    "\n",
    "# Removing elements\n",
    "fruits.remove('banana')  # Removes the first occurrence of 'banana'\n",
    "popped_fruit = fruits.pop(2)  # Removes and returns the element at index 2 ('cherry')\n",
    "\n",
    "# Changing elements\n",
    "fruits[0] = 'kiwi'  # Changes the element at index 0 to 'kiwi'\n",
    "\n",
    "# Accessing elements\n",
    "print(fruits[1])  # Prints 'mango', the element at index 1\n",
    "\n",
    "# Length of the list\n",
    "print(len(fruits))  # Prints the number of elements in the list\n",
    "\n",
    "# Combining lists\n",
    "other_fruits = ['grape', 'pear']\n",
    "combined_fruits = fruits + other_fruits  # Combines both lists\n",
    "\n",
    "# Sorting the list\n",
    "combined_fruits.sort()  # Sorts the list in place\n",
    "print(combined_fruits)\n",
    "\n",
    "# Reversing the list\n",
    "combined_fruits.reverse()  # Reverses the list in place\n",
    "print(combined_fruits)\n"
   ]
  },
  {
   "cell_type": "markdown",
   "id": "ac310024-fc9c-4052-828a-42974ed7101d",
   "metadata": {},
   "source": [
    "# Data Types - Sequence Types tuple"
   ]
  },
  {
   "cell_type": "code",
   "execution_count": 8,
   "id": "58a213ac-0dd1-4c9d-bc13-ccbe56f20882",
   "metadata": {},
   "outputs": [
    {
     "name": "stdout",
     "output_type": "stream",
     "text": [
      "X-coordinate: 6\n",
      "Y-coordinate: 10\n",
      "Z-coordinate: 20\n",
      "Error: 'tuple' object does not support item assignment\n"
     ]
    }
   ],
   "source": [
    "# Define a point in 3D space\n",
    "point_3D = (6, 10, 20)\n",
    "\n",
    "# Accessing elements\n",
    "print(\"X-coordinate:\", point_3D[0])\n",
    "print(\"Y-coordinate:\", point_3D[1])\n",
    "print(\"Z-coordinate:\", point_3D[2])\n",
    "\n",
    "# Attempting to change an element (this will raise an error)\n",
    "try:\n",
    "    point_3D[0] = 10\n",
    "except TypeError as e:\n",
    "    print(\"Error:\", e)\n",
    "\n"
   ]
  },
  {
   "cell_type": "markdown",
   "id": "0c51eef1-d3dd-4527-a62b-a28a0dab56bf",
   "metadata": {},
   "source": [
    "# Data Types - Mapping Type"
   ]
  },
  {
   "cell_type": "code",
   "execution_count": 9,
   "id": "7c93d682-a68d-4e89-9720-392b284fa187",
   "metadata": {},
   "outputs": [
    {
     "name": "stdout",
     "output_type": "stream",
     "text": [
      "Cardholder Name: John Doe\n",
      "Card Number: 1234 5178 9012 3456\n",
      "Updated Credit Card Information: {'cardholder_name': 'John Doe', 'card_number': '1234 5178 9012 3456', 'expiration_date': '06/26', 'cvv': '623', 'billing_address': '12 Main rd, Bentleigh, 3204'}\n"
     ]
    }
   ],
   "source": [
    "credit_card_info = {\n",
    "    \"cardholder_name\": \"John Doe\",\n",
    "    \"card_number\": \"1234 5178 9012 3456\",\n",
    "    \"expiration_date\": \"05/25\",\n",
    "    \"cvv\": \"623\"\n",
    "}\n",
    "\n",
    "# Accessing elements\n",
    "print(\"Cardholder Name:\", credit_card_info[\"cardholder_name\"])\n",
    "print(\"Card Number:\", credit_card_info[\"card_number\"])\n",
    "\n",
    "# Modifying elements\n",
    "credit_card_info[\"expiration_date\"] = \"06/26\"\n",
    "\n",
    "# Adding new key-value pair\n",
    "credit_card_info[\"billing_address\"] = \"12 Main rd, Bentleigh, 3204\"\n",
    "\n",
    "# Output the updated dictionary\n",
    "print(\"Updated Credit Card Information:\", credit_card_info)\n",
    "\n"
   ]
  },
  {
   "cell_type": "markdown",
   "id": "474330e1-9cbf-494d-a25b-c67f442e4e0f",
   "metadata": {},
   "source": [
    "# Data Types - Set Types set"
   ]
  },
  {
   "cell_type": "code",
   "execution_count": 10,
   "id": "c1fce727-3341-489a-a1d8-fc78b2f7d6ad",
   "metadata": {},
   "outputs": [
    {
     "name": "stdout",
     "output_type": "stream",
     "text": [
      "Popped element: 2\n",
      "5 is in set1\n"
     ]
    }
   ],
   "source": [
    "# Creating set1\n",
    "set1 = {1, 2, 3, 4, 5}\n",
    "\n",
    "# Adding an element to set1\n",
    "set1.add(6)  # set1 is now {1, 2, 3, 4, 5, 6}\n",
    "\n",
    "# Adding multiple elements to set1\n",
    "set1.update([7, 8, 9])  \n",
    "\n",
    "# Removing an element from set1\n",
    "set1.remove(1) \n",
    "\n",
    "# Popping a random element from set1 (sets are unordered)\n",
    "popped_element = set1.pop() \n",
    "print(f\"Popped element: {popped_element}\")\n",
    "\n",
    "# Checking if an element is in set1\n",
    "if 5 in set1:\n",
    "    print(\"5 is in set1\")\n"
   ]
  },
  {
   "cell_type": "code",
   "execution_count": 11,
   "id": "4eed76b6-d35a-493c-909a-0062b631fb90",
   "metadata": {},
   "outputs": [
    {
     "name": "stdout",
     "output_type": "stream",
     "text": [
      "Union: {3, 4, 5, 6, 7, 8, 9, 10, 15, 20}\n",
      "Intersection: {5}\n",
      "Difference: {3, 4, 6, 7, 8, 9}\n",
      "Symmetric Difference: {3, 4, 6, 7, 8, 9, 10, 15, 20}\n"
     ]
    }
   ],
   "source": [
    "# Creating set2\n",
    "set2 = {5, 10, 15, 20}\n",
    "\n",
    "# Union of set1 and set2 (elements in either set)\n",
    "union_set = set1.union(set2)\n",
    "print(\"Union:\", union_set)\n",
    "\n",
    "# Intersection of set1 and set2 (elements common to both sets)\n",
    "intersection_set = set1.intersection(set2)\n",
    "print(\"Intersection:\", intersection_set)\n",
    "\n",
    "# Difference of set1 and set2 (elements in set1 but not in set2)\n",
    "difference_set = set1.difference(set2)\n",
    "print(\"Difference:\", difference_set)\n",
    "\n",
    "# Symmetric difference of set1 and set2 (elements in either set, but not in both)\n",
    "symmetric_difference_set = set1.symmetric_difference(set2)\n",
    "print(\"Symmetric Difference:\", symmetric_difference_set)\n"
   ]
  },
  {
   "cell_type": "markdown",
   "id": "77e04f81-717a-4505-9a31-f3f8481e4ae5",
   "metadata": {},
   "source": [
    "# Data Types - Set Types frozenset"
   ]
  },
  {
   "cell_type": "code",
   "execution_count": 12,
   "id": "3f5c151f-645a-4bc7-ac35-ab80f860a384",
   "metadata": {},
   "outputs": [
    {
     "name": "stdout",
     "output_type": "stream",
     "text": [
      "Set after adding an element: {1, 2, 3, 4}\n",
      "Error: 'frozenset' object has no attribute 'add'\n"
     ]
    }
   ],
   "source": [
    "# Mutable set\n",
    "sample_set = {1, 2, 3}\n",
    "\n",
    "# Immutable frozenset\n",
    "immutable_sample = frozenset([1, 2, 3])\n",
    "\n",
    "# Adding an element to the set\n",
    "sample_set.add(4)  # Works fine\n",
    "print(\"Set after adding an element:\", sample_set)\n",
    "\n",
    "# this will raise an AttributeError\n",
    "try:\n",
    "    immutable_sample.add(4)\n",
    "except AttributeError as e:\n",
    "    print(\"Error:\", e)\n"
   ]
  },
  {
   "cell_type": "markdown",
   "id": "4b4dc3b2-773a-49bf-8c63-f28588abb5d9",
   "metadata": {},
   "source": [
    "# Data Types - Boolean Type"
   ]
  },
  {
   "cell_type": "code",
   "execution_count": 13,
   "id": "4a9908a2-ddc4-4cb6-8b79-b92200b73d04",
   "metadata": {},
   "outputs": [
    {
     "name": "stdout",
     "output_type": "stream",
     "text": [
      "True\n",
      "False\n"
     ]
    }
   ],
   "source": [
    "# Checking if a number is positive\n",
    "is_positive = 20 > 0\n",
    "print(is_positive)  \n",
    "\n",
    "# Comparing two values\n",
    "is_equal = (8 == 10)\n",
    "print(is_equal) \n"
   ]
  },
  {
   "cell_type": "markdown",
   "id": "47ada6e8-6d56-4247-adab-f5ec44d052f3",
   "metadata": {},
   "source": [
    "# Data Types - None Type"
   ]
  },
  {
   "cell_type": "code",
   "execution_count": 14,
   "id": "af4e88ca-34ab-4498-8d19-f11e572be157",
   "metadata": {},
   "outputs": [
    {
     "name": "stdout",
     "output_type": "stream",
     "text": [
      "User's email is not set.\n",
      "User's email is user@example.com.\n"
     ]
    }
   ],
   "source": [
    "# Initially, the user's email is unknown\n",
    "user_email = None\n",
    "\n",
    "# Check if the user's email is known\n",
    "if user_email is None:\n",
    "    print(\"User's email is not set.\")\n",
    "else:\n",
    "    print(f\"User's email is {user_email}.\")\n",
    "\n",
    "# Later in the program, the user provides their email address\n",
    "user_email = \"user@example.com\"\n",
    "\n",
    "# Check again if the user's email is known\n",
    "if user_email is None:\n",
    "    print(\"User's email is not set.\")\n",
    "else:\n",
    "    print(f\"User's email is {user_email}.\")\n"
   ]
  },
  {
   "cell_type": "code",
   "execution_count": null,
   "id": "baee697d-0cf1-4626-958d-d2f56bcac4d9",
   "metadata": {},
   "outputs": [],
   "source": []
  }
 ],
 "metadata": {
  "kernelspec": {
   "display_name": "Python 3 (ipykernel)",
   "language": "python",
   "name": "python3"
  },
  "language_info": {
   "codemirror_mode": {
    "name": "ipython",
    "version": 3
   },
   "file_extension": ".py",
   "mimetype": "text/x-python",
   "name": "python",
   "nbconvert_exporter": "python",
   "pygments_lexer": "ipython3",
   "version": "3.12.2"
  }
 },
 "nbformat": 4,
 "nbformat_minor": 5
}
