{
 "cells": [
  {
   "cell_type": "markdown",
   "source": [
    "# OpenAI Embeddings\n",
    "\n",
    "Reference: https://platform.openai.com/docs/api-reference/chat"
   ],
   "metadata": {
    "collapsed": false
   },
   "id": "7a37aa0ca6afea0f"
  },
  {
   "cell_type": "code",
   "execution_count": null,
   "outputs": [],
   "source": [
    "from openai import OpenAI\n",
    "import os\n"
   ],
   "metadata": {
    "collapsed": false
   },
   "id": "74645c8e240df265"
  },
  {
   "cell_type": "code",
   "execution_count": null,
   "outputs": [],
   "source": [
    "# Set the API key\n",
    "openai_api_key = os.getenv(\"OPENAI_API_KEY\", \"sk-xxxx\")\n",
    "client = OpenAI(api_key=openai_api_key)"
   ],
   "metadata": {
    "collapsed": false
   },
   "id": "cd3e7a533f4dc3cd"
  },
  {
   "cell_type": "code",
   "execution_count": null,
   "outputs": [],
   "source": [
    "client.embeddings.create(\n",
    "  model=\"text-embedding-ada-002\",\n",
    "  input=\"The food was delicious and the waiter...\",\n",
    "  encoding_format=\"float\"\n",
    ")\n"
   ],
   "metadata": {
    "collapsed": false
   },
   "id": "ee811ef9f4bcbf2c"
  }
 ],
 "metadata": {
  "kernelspec": {
   "display_name": "Python 3",
   "language": "python",
   "name": "python3"
  },
  "language_info": {
   "codemirror_mode": {
    "name": "ipython",
    "version": 2
   },
   "file_extension": ".py",
   "mimetype": "text/x-python",
   "name": "python",
   "nbconvert_exporter": "python",
   "pygments_lexer": "ipython2",
   "version": "2.7.6"
  }
 },
 "nbformat": 4,
 "nbformat_minor": 5
}
